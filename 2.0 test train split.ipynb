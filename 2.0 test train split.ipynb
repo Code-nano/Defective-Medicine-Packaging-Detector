{
 "cells": [
  {
   "cell_type": "code",
   "execution_count": 1,
   "metadata": {},
   "outputs": [],
   "source": [
    "import os\n",
    "import shutil\n",
    "import random"
   ]
  },
  {
   "cell_type": "code",
   "execution_count": 2,
   "metadata": {},
   "outputs": [],
   "source": [
    "# Define the paths to the folders\n",
    "data_folder = os.path.join('Tensorflow', 'workspace', 'images', 'collectedimages')\n",
    "train_folder = os.path.join('Tensorflow', 'workspace', 'images', 'train')\n",
    "test_folder = os.path.join('Tensorflow', 'workspace', 'images', 'test')"
   ]
  },
  {
   "cell_type": "code",
   "execution_count": 3,
   "metadata": {},
   "outputs": [],
   "source": [
    "# Create the train and test folders\n",
    "os.mkdir(train_folder)\n",
    "os.mkdir(test_folder)"
   ]
  },
  {
   "cell_type": "code",
   "execution_count": 4,
   "metadata": {},
   "outputs": [],
   "source": [
    "# Loop through the subfolders in the data folder\n",
    "for folder in os.listdir(data_folder):\n",
    "    # Create the corresponding subfolders in the train and test folders\n",
    "    os.mkdir(os.path.join(train_folder, folder))\n",
    "    os.mkdir(os.path.join(test_folder, folder))\n",
    "\n",
    "    # Get the list of images in the subfolder\n",
    "    images = [f for f in os.listdir(os.path.join(data_folder, folder)) if f.endswith(\".jpg\")]\n",
    "    # Randomly shuffle the list\n",
    "    random.shuffle(images)\n",
    "\n",
    "    # Split the images into train and test sets\n",
    "    train_images = images[:int(0.8*len(images))]\n",
    "    test_images = images[int(0.8*len(images)):]\n",
    "\n",
    "    # Copy the image files and their corresponding XML files to the train folder\n",
    "    for image in train_images:\n",
    "        image_path = os.path.join(data_folder, folder, image)\n",
    "        xml_path = os.path.splitext(image_path)[0] + \".xml\"\n",
    "        shutil.copy(image_path, os.path.join(train_folder, folder, image))\n",
    "        shutil.copy(xml_path, os.path.join(train_folder, folder, os.path.splitext(image)[0] + \".xml\"))\n",
    "\n",
    "    # Copy the image files and their corresponding XML files to the test folder\n",
    "    for image in test_images:\n",
    "        image_path = os.path.join(data_folder, folder, image)\n",
    "        xml_path = os.path.splitext(image_path)[0] + \".xml\"\n",
    "        shutil.copy(image_path, os.path.join(test_folder, folder, image))\n",
    "        shutil.copy(xml_path, os.path.join(test_folder, folder, os.path.splitext(image)[0] + \".xml\"))\n"
   ]
  },
  {
   "cell_type": "code",
   "execution_count": null,
   "metadata": {},
   "outputs": [],
   "source": []
  }
 ],
 "metadata": {
  "kernelspec": {
   "display_name": "Python 3 (ipykernel)",
   "language": "python",
   "name": "python3"
  },
  "language_info": {
   "codemirror_mode": {
    "name": "ipython",
    "version": 3
   },
   "file_extension": ".py",
   "mimetype": "text/x-python",
   "name": "python",
   "nbconvert_exporter": "python",
   "pygments_lexer": "ipython3",
   "version": "3.10.9"
  },
  "vscode": {
   "interpreter": {
    "hash": "d65c91900f0892c4ec89b555495e8643a5d8440ba372262d1b891a4bbcb4bd84"
   }
  }
 },
 "nbformat": 4,
 "nbformat_minor": 2
}
