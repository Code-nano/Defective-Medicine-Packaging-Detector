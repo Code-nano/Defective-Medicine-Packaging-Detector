{
 "cells": [
  {
   "attachments": {},
   "cell_type": "markdown",
   "metadata": {},
   "source": [
    "# Part 1"
   ]
  },
  {
   "attachments": {},
   "cell_type": "markdown",
   "metadata": {},
   "source": [
    "## Notes\n",
    "\n",
    "- This script consideres the images that you've already split. but you still need to use this one exclusively. if you have used 2.0 this script wouldn't track the file split\n",
    "- this script will generate a "
   ]
  },
  {
   "attachments": {},
   "cell_type": "markdown",
   "metadata": {},
   "source": [
    "## Image Dataset Splitter\n",
    "This script helps you split an image dataset into training and testing sets. It works with image files (.jpg) and their corresponding annotation files (.xml).\n",
    "\n",
    "## Usage\n",
    "1. Place your image dataset into a folder, with each subfolder containing images of a specific category. This is automatically done if you've used 1.0 Image..."
   ]
  },
  {
   "attachments": {},
   "cell_type": "raw",
   "metadata": {},
   "source": [
    "data_folder\n",
    "├── category1\n",
    "│   ├── image1.jpg\n",
    "│   ├── image1.xml\n",
    "│   ├── image2.jpg\n",
    "│   └── image2.xml\n",
    "├── category2\n",
    "│   ├── image3.jpg\n",
    "│   ├── image3.xml\n",
    "│   ├── image4.jpg\n",
    "│   └── image4.xml\n",
    "└── category3\n",
    "    ├── image5.jpg\n",
    "    ├── image5.xml\n",
    "    ├── image6.jpg\n",
    "    └── image6.xml"
   ]
  },
  {
   "attachments": {},
   "cell_type": "markdown",
   "metadata": {},
   "source": [
    "2. Modify the Args class instance in the script to set your custom folder paths and split ratio (if necessary):"
   ]
  },
  {
   "attachments": {},
   "cell_type": "raw",
   "metadata": {},
   "source": [
    "args = Args()\n",
    "args.data_folder = \"your_data_folder_path\"  # Replace with your data folder path\n",
    "args.train_folder = \"your_train_folder_path\"  # Replace with your train folder path\n",
    "args.test_folder = \"your_test_folder_path\"  # Replace with your test folder path\n",
    "args.split_ratio = 0.8  # Default split ratio (80% for training and 20% for testing)\n",
    "args.set_defaults()  # Set default values if folder paths are empty"
   ]
  },
  {
   "attachments": {},
   "cell_type": "markdown",
   "metadata": {},
   "source": [
    "3. Run the script\n",
    "\n",
    "The script will copy the images and their corresponding annotation files into the train and test folders, maintaining the original folder structure"
   ]
  },
  {
   "attachments": {},
   "cell_type": "raw",
   "metadata": {},
   "source": [
    "train_folder\n",
    "├── category1\n",
    "│   ├── image1.jpg\n",
    "│   ├── image1.xml\n",
    "│   ├── image2.jpg\n",
    "│   └── image2.xml\n",
    "├── category2\n",
    "│   ├── image3.jpg\n",
    "│   ├── image3.xml\n",
    "│   ├── image4.jpg\n",
    "│   └── image4.xml\n",
    "└── category3\n",
    "    ├── image5.jpg\n",
    "    ├── image5.xml\n",
    "    ├── image6.jpg\n",
    "    └── image6.xml"
   ]
  },
  {
   "attachments": {},
   "cell_type": "markdown",
   "metadata": {},
   "source": [
    "The code below:"
   ]
  },
  {
   "cell_type": "code",
   "execution_count": null,
   "metadata": {},
   "outputs": [],
   "source": [
    "class Args:\n",
    "    data_folder = \"\"  # Set to empty string\n",
    "    train_folder = \"\"  # Set to empty string\n",
    "    test_folder = \"\"  # Set to empty string\n",
    "    split_ratio = 0.8  # Default split ratio (80% for training and 20% for testing)\n",
    "\n",
    "    # Function to set default values if folder paths are empty\n",
    "    def set_defaults(self):\n",
    "        if not self.data_folder:\n",
    "            self.data_folder = \"Tensorflow/workspace/images/collectedimages\"  # Default data folder\n",
    "        if not self.train_folder:\n",
    "            self.train_folder = \"Tensorflow/workspace/images/train\"  # Default train folder\n",
    "        if not self.test_folder:\n",
    "            self.test_folder = \"Tensorflow/workspace/images/test\"  # Default test folder\n",
    "\n",
    "# Create an instance of the Args class to store the argument values\n",
    "args = Args()\n",
    "args.set_defaults()  # Set default values if folder paths are empty"
   ]
  },
  {
   "cell_type": "code",
   "execution_count": null,
   "metadata": {},
   "outputs": [],
   "source": [
    "import os\n",
    "import shutil\n",
    "import random\n",
    "import argparse\n",
    "import logging\n",
    "from tqdm import tqdm\n",
    "\n",
    "def parse_arguments():\n",
    "    parser = argparse.ArgumentParser(description='Split image dataset into training and testing sets.')\n",
    "    parser.add_argument('--data_folder', type=str, default=os.path.join('Tensorflow', 'workspace', 'images', 'collectedimages'),\n",
    "                        help='Path to the folder containing the image dataset')\n",
    "    parser.add_argument('--train_folder', type=str, default=os.path.join('Tensorflow', 'workspace', 'images', 'train'),\n",
    "                        help='Path to the output train folder')\n",
    "    parser.add_argument('--test_folder', type=str, default=os.path.join('Tensorflow', 'workspace', 'images', 'test'),\n",
    "                        help='Path to the output test folder')\n",
    "    parser.add_argument('--split_ratio', type=float, default=0.8,\n",
    "                        help='Ratio of images to be used for training (e.g., 0.8 means 80% for training and 20% for testing)')\n",
    "    return parser.parse_args()\n",
    "\n",
    "def get_images_by_subfolder(data_folder):\n",
    "    images_by_subfolder = {}\n",
    "    for folder in os.listdir(data_folder):\n",
    "        images = [os.path.join(data_folder, folder, f) for f in os.listdir(os.path.join(data_folder, folder)) if f.endswith(\".jpg\")]\n",
    "        images_by_subfolder[folder] = images\n",
    "    return images_by_subfolder\n",
    "\n",
    "def read_tracking_file(tracking_file_path):\n",
    "    processed_counts = {}\n",
    "    if os.path.exists(tracking_file_path):\n",
    "        with open(tracking_file_path, 'r') as f:\n",
    "            for line in f:\n",
    "                folder, count = line.strip().split(',')\n",
    "                processed_counts[folder] = int(count)\n",
    "    return processed_counts\n",
    "\n",
    "def update_tracking_file(tracking_file_path, processed_counts):\n",
    "    with open(tracking_file_path, 'w') as f:\n",
    "        for folder, count in processed_counts.items():\n",
    "            f.write(f\"{folder},{count}\\n\")\n",
    "def split_and_copy_images(train_folder, test_folder, images_by_subfolder, split_ratio, tracking_file_path):\n",
    "    os.makedirs(train_folder, exist_ok=True)\n",
    "    os.makedirs(test_folder, exist_ok=True)\n",
    "\n",
    "    processed_counts = read_tracking_file(tracking_file_path)\n",
    "\n",
    "    for folder, images in images_by_subfolder.items():\n",
    "        if folder not in processed_counts:\n",
    "            processed_counts[folder] = 0\n",
    "\n",
    "        new_images = images[processed_counts[folder]:]\n",
    "        random.shuffle(new_images)\n",
    "\n",
    "        train_count = int(split_ratio * len(new_images))\n",
    "        test_count = len(new_images) - train_count\n",
    "\n",
    "        train_images = new_images[:train_count]\n",
    "        test_images = new_images[train_count:]\n",
    "\n",
    "        for image_path in tqdm(train_images, desc=f\"Copying train images from {folder}\"):\n",
    "            image_name = os.path.basename(image_path)\n",
    "            xml_name = os.path.splitext(image_name)[0] + \".xml\"\n",
    "            xml_path = os.path.join(os.path.dirname(image_path), xml_name)\n",
    "\n",
    "            shutil.copy(image_path, os.path.join(train_folder, image_name))\n",
    "            shutil.copy(xml_path, os.path.join(train_folder, xml_name))\n",
    "\n",
    "        for image_path in tqdm(test_images, desc=f\"Copying test images from {folder}\"):\n",
    "            image_name = os.path.basename(image_path)\n",
    "            xml_name = os.path.splitext(image_name)[0] + \".xml\"\n",
    "            xml_path = os.path.join(os.path.dirname(image_path), xml_name)\n",
    "\n",
    "            shutil.copy(image_path, os.path.join(test_folder, image_name))\n",
    "            shutil.copy(xml_path, os.path.join(test_folder, xml_name))\n",
    "\n",
    "        processed_counts[folder] += len(new_images)\n",
    "\n",
    "    update_tracking_file(tracking_file_path, processed_counts)\n",
    "    \n",
    "def main():\n",
    "    logging.basicConfig(level=logging.INFO)\n",
    "\n",
    "    # args = parse_arguments()  #not using\n",
    "\n",
    "    if not os.path.exists(args.data_folder):\n",
    "        logging.error(f\"Data folder '{args.data_folder}' does not exist.\")\n",
    "        return\n",
    "\n",
    "    images_by_subfolder = get_images_by_subfolder(args.data_folder)\n",
    "\n",
    "    if not images_by_subfolder:\n",
    "        logging.error(\"No images found in the data folder.\")\n",
    "        return\n",
    "\n",
    "    tracking_file_path = \"image_split_tracking.txt\"\n",
    "    split_and_copy_images(args.train_folder, args.test_folder, images_by_subfolder, args.split_ratio, tracking_file_path)\n",
    "    logging.info(\"Successfully split and copied images and XML files to train and test folders.\")\n",
    "\n",
    "if __name__ == \"__main__\":\n",
    "    main()\n"
   ]
  },
  {
   "attachments": {},
   "cell_type": "markdown",
   "metadata": {},
   "source": [
    "# Part 2"
   ]
  },
  {
   "attachments": {},
   "cell_type": "markdown",
   "metadata": {},
   "source": [
    "Will be updated in the future."
   ]
  }
 ],
 "metadata": {
  "kernelspec": {
   "display_name": "ds-c-tfod-01",
   "language": "python",
   "name": "python3"
  },
  "language_info": {
   "codemirror_mode": {
    "name": "ipython",
    "version": 3
   },
   "file_extension": ".py",
   "mimetype": "text/x-python",
   "name": "python",
   "nbconvert_exporter": "python",
   "pygments_lexer": "ipython3",
   "version": "3.8.16"
  },
  "orig_nbformat": 4
 },
 "nbformat": 4,
 "nbformat_minor": 2
}
