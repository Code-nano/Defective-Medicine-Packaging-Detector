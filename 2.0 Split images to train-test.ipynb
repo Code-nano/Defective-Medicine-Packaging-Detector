{
 "cells": [
  {
   "attachments": {},
   "cell_type": "markdown",
   "metadata": {},
   "source": [
    "## Usage Guide\n",
    "\n",
    "This is designed to split a dataset of images and their corresponding XML files into training and testing sets. The dataset is organized into subfolders within a main data folder. If you have used the highlight feature before this please use the part 2 of the 2.1 version\n",
    "\n",
    "### Prerequisites\n",
    "\n",
    "Make sure you have Python 3.x installed on your system.\n",
    "\n",
    "### How to use the script\n",
    "\n",
    "1. Save the provided script as a `.py` file, for example `split_images.py`.\n",
    "\n",
    "2. Open a terminal or command prompt and navigate to the directory where the script is saved.\n",
    "\n",
    "3. Run the script using the following command:\n",
    "\n"
   ]
  },
  {
   "attachments": {},
   "cell_type": "markdown",
   "metadata": {},
   "source": [
    "\n",
    "This will use the default data folder, train folder, test folder, and split ratio (80% for training and 20% for testing). The default paths are as follows:\n",
    "\n",
    "- Data folder: `Tensorflow/workspace/images/collectedimages`\n",
    "- Train folder: `Tensorflow/workspace/images/train`\n",
    "- Test folder: `Tensorflow/workspace/images/test`\n",
    "\n",
    "4. To customize the input and output folder paths and the split ratio, use the following command-line arguments:\n",
    "\n",
    "- `--data_folder`: Path to the folder containing the image dataset\n",
    "- `--train_folder`: Path to the output train folder\n",
    "- `--test_folder`: Path to the output test folder\n",
    "- `--split_ratio`: Ratio of images to be used for training (e.g., 0.8 means 80% for training and 20% for testing)\n",
    "\n",
    "Example command with custom arguments:\n",
    "\n"
   ]
  },
  {
   "cell_type": "markdown",
   "metadata": {},
   "source": [
    "python split_images.py --data_folder \"path/to/data\" --train_folder \"path/to/train\" --test_folder \"path/to/test\" --split_ratio 0.9"
   ]
  },
  {
   "attachments": {},
   "cell_type": "markdown",
   "metadata": {},
   "source": [
    "\n",
    "5. The script will split the images and XML files from each subfolder into the train and test folders, maintaining the specified split ratio. Progress will be logged in the terminal or command prompt.\n",
    "\n",
    "## Notes\n",
    "\n",
    "- Make sure the input data folder contains subfolders with images and their corresponding XML files.\n",
    "- The script will create the train and test folders if they don't already exist.\n",
    "- This script does not consider that if you have already split the data and add new data into collected images file"
   ]
  },
  {
   "attachments": {},
   "cell_type": "markdown",
   "metadata": {},
   "source": [
    "## If you want to use this notebook instead "
   ]
  },
  {
   "attachments": {},
   "cell_type": "markdown",
   "metadata": {},
   "source": [
    "Modify the first cell for the \n",
    "    data_folder, train_folder, test_folder, split_ratio"
   ]
  },
  {
   "cell_type": "code",
   "execution_count": null,
   "metadata": {},
   "outputs": [],
   "source": [
    "class Args:\n",
    "    data_folder = \"\"  # Set to empty string\n",
    "    train_folder = \"\"  # Set to empty string\n",
    "    test_folder = \"\"  # Set to empty string\n",
    "    split_ratio = 0.8  # Default split ratio (80% for training and 20% for testing)\n",
    "\n",
    "    # Function to set default values if folder paths are empty\n",
    "    def set_defaults(self):\n",
    "        if not self.data_folder:\n",
    "            self.data_folder = \"Tensorflow/workspace/images/collectedimages\"  # Default data folder\n",
    "        if not self.train_folder:\n",
    "            self.train_folder = \"Tensorflow/workspace/images/train\"  # Default train folder\n",
    "        if not self.test_folder:\n",
    "            self.test_folder = \"Tensorflow/workspace/images/test\"  # Default test folder\n",
    "\n",
    "# Create an instance of the Args class to store the argument values\n",
    "args = Args()\n",
    "args.set_defaults()  # Set default values if folder paths are empty\n"
   ]
  },
  {
   "cell_type": "code",
   "execution_count": null,
   "metadata": {},
   "outputs": [],
   "source": [
    "import os\n",
    "import shutil\n",
    "import random\n",
    "import argparse\n",
    "import logging\n",
    "from tqdm import tqdm\n",
    "\n",
    "def parse_arguments():\n",
    "    parser = argparse.ArgumentParser(description='Split image dataset into training and testing sets.')\n",
    "    parser.add_argument('--data_folder', type=str, default=os.path.join('Tensorflow', 'workspace', 'images', 'collectedimages'),\n",
    "                        help='Path to the folder containing the image dataset')\n",
    "    parser.add_argument('--train_folder', type=str, default=os.path.join('Tensorflow', 'workspace', 'images', 'train'),\n",
    "                        help='Path to the output train folder')\n",
    "    parser.add_argument('--test_folder', type=str, default=os.path.join('Tensorflow', 'workspace', 'images', 'test'),\n",
    "                        help='Path to the output test folder')\n",
    "    parser.add_argument('--split_ratio', type=float, default=0.8,\n",
    "                        help='Ratio of images to be used for training (e.g., 0.8 means 80% for training and 20% for testing)')\n",
    "    return parser.parse_args()\n",
    "\n",
    "def get_images_by_subfolder(data_folder):\n",
    "    images_by_subfolder = {}\n",
    "    for folder in os.listdir(data_folder):\n",
    "        images = [os.path.join(data_folder, folder, f) for f in os.listdir(os.path.join(data_folder, folder)) if f.endswith(\".jpg\")]\n",
    "        images_by_subfolder[folder] = images\n",
    "    return images_by_subfolder\n",
    "\n",
    "def split_and_copy_images(train_folder, test_folder, images_by_subfolder, split_ratio):\n",
    "    os.makedirs(train_folder, exist_ok=True)\n",
    "    os.makedirs(test_folder, exist_ok=True)\n",
    "\n",
    "    for folder, images in images_by_subfolder.items():\n",
    "        random.shuffle(images)\n",
    "        train_images = images[:int(split_ratio * len(images))]\n",
    "        test_images = images[int(split_ratio * len(images)):]\n",
    "\n",
    "        for image_path in tqdm(train_images, desc=f\"Copying train images from {folder}\"):\n",
    "            image_name = os.path.basename(image_path)\n",
    "            xml_name = os.path.splitext(image_name)[0] + \".xml\"\n",
    "            xml_path = os.path.join(os.path.dirname(image_path), xml_name)\n",
    "            shutil.copy(image_path, os.path.join(train_folder, image_name))\n",
    "            shutil.copy(xml_path, os.path.join(train_folder, xml_name))\n",
    "\n",
    "        for image_path in tqdm(test_images, desc=f\"Copying test images from {folder}\"):\n",
    "            image_name = os.path.basename(image_path)\n",
    "            xml_name = os.path.splitext(image_name)[0] + \".xml\"\n",
    "            xml_path = os.path.join(os.path.dirname(image_path), xml_name)\n",
    "            shutil.copy(image_path, os.path.join(test_folder, image_name))\n",
    "            shutil.copy(xml_path, os.path.join(test_folder, xml_name))\n",
    "\n",
    "def main():\n",
    "    logging.basicConfig(level=logging.INFO)\n",
    "\n",
    "    if not os.path.exists(args.data_folder):\n",
    "        logging.error(f\"Data folder '{args.data_folder}' does not exist.\")\n",
    "        return\n",
    "\n",
    "    images_by_subfolder = get_images_by_subfolder(args.data_folder)\n",
    "\n",
    "    if not images_by_subfolder:\n",
    "        logging.error(\"No images found in the data folder.\")\n",
    "        return\n",
    "\n",
    "    split_and_copy_images(args.train_folder, args.test_folder, images_by_subfolder, args.split_ratio)\n",
    "    logging.info(\"Successfully split and copied images and XML files to train and test folders.\")\n",
    "\n",
    "main()"
   ]
  },
  {
   "cell_type": "code",
   "execution_count": null,
   "metadata": {},
   "outputs": [],
   "source": []
  }
 ],
 "metadata": {
  "kernelspec": {
   "display_name": "Python 3 (ipykernel)",
   "language": "python",
   "name": "python3"
  },
  "language_info": {
   "codemirror_mode": {
    "name": "ipython",
    "version": 3
   },
   "file_extension": ".py",
   "mimetype": "text/x-python",
   "name": "python",
   "nbconvert_exporter": "python",
   "pygments_lexer": "ipython3",
   "version": "3.8.16"
  },
  "vscode": {
   "interpreter": {
    "hash": "d65c91900f0892c4ec89b555495e8643a5d8440ba372262d1b891a4bbcb4bd84"
   }
  }
 },
 "nbformat": 4,
 "nbformat_minor": 4
}
